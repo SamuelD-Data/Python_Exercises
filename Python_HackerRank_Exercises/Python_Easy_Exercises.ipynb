{
 "cells": [
  {
   "cell_type": "markdown",
   "metadata": {},
   "source": [
    "# Python Easy Exercises\n",
    "***"
   ]
  },
  {
   "cell_type": "markdown",
   "metadata": {},
   "source": [
    "# #1\n",
    "__Given an integer, n, perform the following conditional actions:\n",
    "<br>\n",
    "If odd, print Weird\n",
    "<br>\n",
    "If even and in the inclusive range of 2 to 5, print Not Weird\n",
    "<br>\n",
    "If even and in the inclusive range of 6 to 20, print Weird\n",
    "<br>\n",
    "If even and greater than 20, print Not Weird\n",
    "<br>\n",
    "Integer will be no less than 1 and no greater than 100__"
   ]
  },
  {
   "cell_type": "code",
   "execution_count": 25,
   "metadata": {},
   "outputs": [
    {
     "name": "stdout",
     "output_type": "stream",
     "text": [
      "33\n",
      "Weird\n"
     ]
    }
   ],
   "source": [
    "n = int(input())\n",
    "\n",
    "if n % 2 == 1:\n",
    "    print (\"Weird\")\n",
    "elif n % 2 == 0 and n in range(2,6):\n",
    "    print ('Not Weird')\n",
    "elif n % 2 == 0 and n in range (6,21):\n",
    "    print ('Weird')\n",
    "elif n % 2 == 0 and n > 20:\n",
    "    print ('Not Weird')"
   ]
  },
  {
   "cell_type": "markdown",
   "metadata": {},
   "source": [
    "# #2\n",
    "__Print \"Hello, World!\"__"
   ]
  },
  {
   "cell_type": "code",
   "execution_count": 2,
   "metadata": {},
   "outputs": [
    {
     "name": "stdout",
     "output_type": "stream",
     "text": [
      "Hello, World\n"
     ]
    }
   ],
   "source": [
    "print(\"Hello, World\")"
   ]
  },
  {
   "cell_type": "markdown",
   "metadata": {},
   "source": [
    "# #3\n",
    "__The provided code stub reads two integers from STDIN, a and b. \n",
    "<br>Add code to print three lines where:\n",
    "<br>The first line contains the sum of the two numbers.\n",
    "<br>The second line contains the difference of the two numbers (first - second).\n",
    "<br>The third line contains the product of the two numbers.\n",
    "<br>a and b are both between 1 and 10^10 (inclusive)__"
   ]
  },
  {
   "cell_type": "code",
   "execution_count": 3,
   "metadata": {},
   "outputs": [
    {
     "name": "stdout",
     "output_type": "stream",
     "text": [
      "22\n",
      "2\n",
      "24\n",
      "20\n",
      "44\n"
     ]
    }
   ],
   "source": [
    "a = int(input())\n",
    "b = int(input())\n",
    "\n",
    "print(a + b)\n",
    "print(a - b)\n",
    "print(a * b)"
   ]
  },
  {
   "cell_type": "markdown",
   "metadata": {},
   "source": [
    "# #4\n",
    "__The provided code stub reads two integers, a and b, from STDIN.\n",
    "<br>Add logic to print two lines. \n",
    "<br>The first line should contain the result of integer division,  // . \n",
    "<br>The second line should contain the result of float division,  / .\n",
    "<br>No rounding or formatting is necessary.__"
   ]
  },
  {
   "cell_type": "code",
   "execution_count": 5,
   "metadata": {},
   "outputs": [
    {
     "name": "stdout",
     "output_type": "stream",
     "text": [
      "2\n",
      "3\n",
      "0\n",
      "0.6666666666666666\n"
     ]
    }
   ],
   "source": [
    "a = int(input())\n",
    "b = int(input())\n",
    "\n",
    "print(a//b)\n",
    "print(a/b)"
   ]
  },
  {
   "cell_type": "markdown",
   "metadata": {},
   "source": [
    "# #5\n",
    "__The provided code stub reads and integer, n, from STDIN. For all non-negative integers i < n, print i^2.\n",
    "<br>n is between 1 and 20 (inclusive)__"
   ]
  },
  {
   "cell_type": "code",
   "execution_count": 14,
   "metadata": {},
   "outputs": [
    {
     "name": "stdout",
     "output_type": "stream",
     "text": [
      "6\n",
      "0\n",
      "1\n",
      "4\n",
      "9\n",
      "16\n",
      "25\n"
     ]
    }
   ],
   "source": [
    "# taking in input\n",
    "n = int(input())\n",
    "\n",
    "# printing squared value of each value in the range of input number (not inclusive of input number)\n",
    "for i in range(n):\n",
    "    print(i**2)"
   ]
  },
  {
   "cell_type": "markdown",
   "metadata": {},
   "source": [
    "# #6\n",
    "__You are given three integers x, y, and z representing the dimensions of a cuboid along with an integer n. \n",
    "<br>Print a list of all possible coordinates given by (i, j, k) on a 3D grid where the sum of i + j + k is not equal to n. \n",
    "<br>Please use list comprehensions rather than multiple loops, as a learning exercise.__"
   ]
  },
  {
   "cell_type": "code",
   "execution_count": 17,
   "metadata": {},
   "outputs": [
    {
     "name": "stdout",
     "output_type": "stream",
     "text": [
      "1\n",
      "2\n",
      "3\n",
      "4\n",
      "[[0, 0, 0], [0, 0, 1], [0, 0, 2], [0, 0, 3], [0, 1, 0], [0, 1, 1], [0, 1, 2], [0, 2, 0], [0, 2, 1], [0, 2, 3], [1, 0, 0], [1, 0, 1], [1, 0, 2], [1, 1, 0], [1, 1, 1], [1, 1, 3], [1, 2, 0], [1, 2, 2], [1, 2, 3]]\n"
     ]
    }
   ],
   "source": [
    "# taking input for each variable\n",
    "x = int(input())\n",
    "y = int(input())\n",
    "z = int(input())\n",
    "n = int(input())\n",
    " \n",
    "# creating arrays of numbers that when summed, do not equal n\n",
    "# values for each digit of each array can be any number between 0 and the input number (x, y, or z, inclusive)\n",
    "print([[i, j, k] for i in range(x + 1) for j in range(y + 1) for k in range(z + 1) if i + j + k != n ])"
   ]
  },
  {
   "cell_type": "markdown",
   "metadata": {},
   "source": [
    "# #7\n",
    "__You are given n scores. Store them in a list and find the score of the runner-up.\n",
    "<br>n is between 2 and 10 (inclusive)\n",
    "<br>Scores are between -100 and 100 (inclusive)__"
   ]
  },
  {
   "cell_type": "code",
   "execution_count": 116,
   "metadata": {},
   "outputs": [
    {
     "name": "stdout",
     "output_type": "stream",
     "text": [
      "4 4 5 4\n",
      "4\n"
     ]
    }
   ],
   "source": [
    "# taking in numbers, converting to int data type and splitting\n",
    "arr = map(int, input().split())\n",
    "\n",
    "# using set to eliminate duplicate values, converting to list afterwards\n",
    "arr = list(set(arr))\n",
    "\n",
    "# sorting values\n",
    "arr.sort()\n",
    "\n",
    "# printing second to last value in last, ie. the second to highest score\n",
    "print(arr[-2])"
   ]
  },
  {
   "cell_type": "markdown",
   "metadata": {},
   "source": [
    "# #8\n",
    "Given the names and grades for each student in a class of  students, store them in a nested list and print the name(s) of any student(s) having the second lowest grade.\n",
    "<br>Note: If there are multiple students with the second lowest grade, order their names alphabetically and print each name on a new line."
   ]
  },
  {
   "cell_type": "code",
   "execution_count": 125,
   "metadata": {},
   "outputs": [
    {
     "name": "stdout",
     "output_type": "stream",
     "text": [
      "4\n",
      "john\n",
      "20\n",
      "eric\n",
      "60\n",
      "tim\n",
      "40\n",
      "jessica\n",
      "80\n",
      "tim\n"
     ]
    }
   ],
   "source": [
    "# creating empty dict\n",
    "empty_dict = {}\n",
    "\n",
    "# taking inputs for number of students, student names, and scores\n",
    "# storing names and scores in empty dictionary\n",
    "for _ in range(int(input())):\n",
    "    name = input()\n",
    "    score = float(input())\n",
    "    empty_dict[name] = score\n",
    "\n",
    "# extracting values from dictionary\n",
    "dict_values = empty_dict.values()\n",
    "\n",
    "# creating and sorting list of unique grade values\n",
    "grades = list(set(dict_values))\n",
    "grades.sort()\n",
    "\n",
    "# sorting values and extracting second lowest grade\n",
    "second_lowest_grade = grades[1]\n",
    "\n",
    "# creating empty list\n",
    "second_lowest_students = []\n",
    "\n",
    "# iterating through dictionary \n",
    "for key, value in empty_dict.items():\n",
    "    # if value in dictionary matches second lowest grade, append name of student to list\n",
    "    if value == second_lowest_grade:\n",
    "        second_lowest_students.append(key)\n",
    "\n",
    "# sorting names\n",
    "second_lowest_students.sort()\n",
    "\n",
    "# printing student names\n",
    "for student in second_lowest_students:\n",
    "    print(student)"
   ]
  },
  {
   "cell_type": "markdown",
   "metadata": {},
   "source": [
    "# #9\n",
    "__Without using any string methods, try to print 123...n\n",
    "The \"...\" represents the consecutive numbers between the shown numbers and n.__"
   ]
  },
  {
   "cell_type": "code",
   "execution_count": 126,
   "metadata": {},
   "outputs": [
    {
     "name": "stdout",
     "output_type": "stream",
     "text": [
      "4\n",
      "1234"
     ]
    }
   ],
   "source": [
    "# receiving input\n",
    "n = int(input())\n",
    "\n",
    "# iterating through range from 1 to input number (inclusive)\n",
    "for num in range(1, n + 1):\n",
    "    # printing each number iterated over\n",
    "    print(num, end = \"\")"
   ]
  },
  {
   "cell_type": "markdown",
   "metadata": {},
   "source": [
    "# #10\n",
    "__The provided code stub will read in a dictionary containing key/value pairs of name:[marks] for a list of students. <br>Print the average of the marks array for the student name provided, showing 2 places after the decimal.__"
   ]
  },
  {
   "cell_type": "code",
   "execution_count": 22,
   "metadata": {},
   "outputs": [
    {
     "name": "stdout",
     "output_type": "stream",
     "text": [
      "3\n",
      "John 20 30 40\n",
      "Gerard 50 60 70\n",
      "Tony 70 30 50\n",
      "John\n",
      "30.00\n"
     ]
    }
   ],
   "source": [
    "# receving input for how many students' grades will be input\n",
    "number_of_students = int(input())\n",
    "\n",
    "# creating empty dictionary\n",
    "grades = {}\n",
    "\n",
    "# iterating through range from 0 to input \n",
    "for _ in range(number_of_students):\n",
    "    # receiving student names, scores\n",
    "    name, *line = input().split()\n",
    "    scores = list(map(float, line))\n",
    "    # adding names and scores to dictionary\n",
    "    grades[name] = scores\n",
    "\n",
    "# receiving name of student to output avg grade of\n",
    "student_avg_grade_to_output = input()\n",
    "\n",
    "# printing average grades of student\n",
    "print(format((sum(grades[student_avg_grade_to_output])) / (len(grades[student_avg_grade_to_output])),'.2f'))"
   ]
  },
  {
   "cell_type": "markdown",
   "metadata": {},
   "source": [
    "# #11 \n",
    "__Read in two integers, a and b, and print three lines. \n",
    "<br>The first line is the integer division a//b\n",
    "<br>The second line is the result of the modulo operator: a%b. \n",
    "<br>The third line prints the divmod of a and b.__"
   ]
  },
  {
   "cell_type": "code",
   "execution_count": 25,
   "metadata": {},
   "outputs": [
    {
     "name": "stdout",
     "output_type": "stream",
     "text": [
      "5\n",
      "2\n",
      "2\n",
      "1\n",
      "(2, 1)\n"
     ]
    }
   ],
   "source": [
    "# reading in inputs\n",
    "a = int(input())\n",
    "b = int(input())\n",
    "\n",
    "# printing specified results\n",
    "print(a // b)\n",
    "print(a % b)\n",
    "print(divmod(a, b))"
   ]
  },
  {
   "cell_type": "markdown",
   "metadata": {},
   "source": [
    "# #12 \n",
    "__You are given three integers: a, b and m, respectively. Print two lines. \n",
    "<br>The first line should print the result of pow(a,b). The second line should print the result of pow(a, b, m).__"
   ]
  },
  {
   "cell_type": "code",
   "execution_count": 1,
   "metadata": {},
   "outputs": [
    {
     "name": "stdout",
     "output_type": "stream",
     "text": [
      "3\n",
      "4\n",
      "5\n",
      "81\n",
      "1\n"
     ]
    }
   ],
   "source": [
    "# reading in inputs\n",
    "a = int(input())\n",
    "b = int(input())\n",
    "m = int(input())\n",
    "\n",
    "# printing a^b and result of pow(a, b, m)\n",
    "print(a ** b)\n",
    "print(pow(a, b, m))"
   ]
  },
  {
   "cell_type": "markdown",
   "metadata": {},
   "source": [
    "# #13\n",
    "__Read four numbers, a, b, c, and d, and print the result of a^b + c^d.__"
   ]
  },
  {
   "cell_type": "code",
   "execution_count": 5,
   "metadata": {},
   "outputs": [
    {
     "name": "stdout",
     "output_type": "stream",
     "text": [
      "1\n",
      "2\n",
      "3\n",
      "4\n",
      "82\n"
     ]
    }
   ],
   "source": [
    "# reading in inputs\n",
    "a = int(input())\n",
    "b = int(input())\n",
    "c = int(input())\n",
    "d = int(input())\n",
    "\n",
    "# calculating exponential results\n",
    "ab = a ** b\n",
    "cd = c ** d\n",
    "\n",
    "# summing exponential results\n",
    "abcd = ab + cd\n",
    "\n",
    "# printing sum\n",
    "print(abcd)"
   ]
  },
  {
   "cell_type": "markdown",
   "metadata": {},
   "source": [
    "# #14\n",
    "__Initialize your list and read in the value of  followed by  lines of commands where each command will be of the  types listed above. \n",
    "<br>Iterate through each command in order and perform the corresponding operation on your list.__"
   ]
  },
  {
   "cell_type": "code",
   "execution_count": 16,
   "metadata": {},
   "outputs": [
    {
     "name": "stdout",
     "output_type": "stream",
     "text": [
      "4\n",
      "insert 0 5\n",
      "insert 1 10\n",
      "insert 0 6\n",
      "print\n",
      "[6, 5, 10]\n"
     ]
    }
   ],
   "source": [
    "# receiving number of instructions that will be input\n",
    "num_of_commands = int(input())\n",
    "\n",
    "# creating empty list\n",
    "list_to_fill = []\n",
    "\n",
    "# iterating through range from 0 to number of commands value (not inclusive)\n",
    "for num in range(num_of_commands):\n",
    "    # acquiring and splitting command and arguments\n",
    "    string = input().split()\n",
    "    # isolating command portion of input (ie. insert, remove, etc.)\n",
    "    command = string[0]\n",
    "    # isolating arguments for commands (ie. numbers for command)\n",
    "    numbers = string[1:]\n",
    "    # if command is not \"print\", join command with arguments separated by commas within parenthesis\n",
    "    # then evaluate \n",
    "    if command != \"print\":\n",
    "        command += \"(\" + \",\".join(numbers) + \")\"\n",
    "        eval(\"list_to_fill.\" + command)\n",
    "    # else, print the list\n",
    "    else:\n",
    "        print (list_to_fill)"
   ]
  },
  {
   "cell_type": "markdown",
   "metadata": {},
   "source": [
    "# #15\n",
    "__Given a series of space-separated integers as input, create a tuple of those  integers, then hash those values and print the results__"
   ]
  },
  {
   "cell_type": "code",
   "execution_count": 33,
   "metadata": {},
   "outputs": [
    {
     "name": "stdout",
     "output_type": "stream",
     "text": [
      "1 2\n",
      "3713081631934410656\n"
     ]
    }
   ],
   "source": [
    "# receiving inputs, converting to integers, splitting, converting to tuple, hashing\n",
    "hash = hash(tuple(map(int, input().split())))\n",
    "\n",
    "# printing hash value\n",
    "print (hash)"
   ]
  },
  {
   "cell_type": "markdown",
   "metadata": {},
   "source": [
    "# #16\n",
    "__In this challenge, you will be given 2 integers, n and m . \n",
    "<br>There are n words, which might repeat, in word group A. \n",
    "<br>There are m words belonging to word group B. \n",
    "<br>For each m words, check whether the word has appeared in group A or not. \n",
    "<br>Print the indices of each occurrence of m in group A.\n",
    "<br>If it does not appear, print -1.__"
   ]
  },
  {
   "cell_type": "code",
   "execution_count": 46,
   "metadata": {},
   "outputs": [
    {
     "name": "stdout",
     "output_type": "stream",
     "text": [
      "3 2\n",
      "a\n",
      "b\n",
      "a\n",
      "a\n",
      "1 3\n",
      "c\n",
      "-1\n"
     ]
    }
   ],
   "source": [
    "# importing default dict\n",
    "from collections import defaultdict\n",
    "\n",
    "# creating default dictionary\n",
    "d = defaultdict(list)\n",
    "\n",
    "# acquiring input and splitting\n",
    "n, m = map(int, input().split())\n",
    "\n",
    "# iterating over range of 1 through n (inclusive)\n",
    "for i in range(1,n+1):\n",
    "    # appending current number in range to input letter\n",
    "    d[input()].append(str(i))\n",
    "\n",
    "# iterating over range of 0 through m (non inclusive)\n",
    "for i in range(m):\n",
    "    # printing indice of occurences of specified letter, -1 if letter not present\n",
    "    print (' '.join(d[input()]) or -1)"
   ]
  },
  {
   "cell_type": "markdown",
   "metadata": {},
   "source": [
    "# #17\n",
    "__You are given a string and your task is to swap cases. \n",
    "<br>In other words, convert all lowercase letters to uppercase letters and vice versa.__"
   ]
  },
  {
   "cell_type": "code",
   "execution_count": 48,
   "metadata": {},
   "outputs": [
    {
     "name": "stdout",
     "output_type": "stream",
     "text": [
      "UpPeR\n",
      "uPpEr\n"
     ]
    }
   ],
   "source": [
    "# receiving input\n",
    "string = input()\n",
    "\n",
    "# swapping upper and lower case\n",
    "swapped = string.swapcase()\n",
    "\n",
    "# printing results\n",
    "print (swapped)"
   ]
  },
  {
   "cell_type": "markdown",
   "metadata": {},
   "source": [
    "# #18\n",
    "__You are given a string. Split the string on a \" \" (space) delimiter and join using a - hyphen.__"
   ]
  },
  {
   "cell_type": "code",
   "execution_count": 58,
   "metadata": {},
   "outputs": [
    {
     "name": "stdout",
     "output_type": "stream",
     "text": [
      "hello world\n",
      "hello-world\n"
     ]
    }
   ],
   "source": [
    "# receiving string\n",
    "string = input()\n",
    "\n",
    "# splitting on spaces\n",
    "split_string = string.split(\" \")\n",
    "\n",
    "# joining string using dashes\n",
    "joined_string = \"-\".join(split_string)\n",
    "\n",
    "# printing result\n",
    "print(joined_string)"
   ]
  },
  {
   "cell_type": "markdown",
   "metadata": {},
   "source": [
    "# #19\n",
    "__You are given the firstname and lastname of a person on two different lines.\n",
    "<br>Your task is to read them and print the following:\n",
    "<br>Hello firstname lastname! You just delved into python.__"
   ]
  },
  {
   "cell_type": "code",
   "execution_count": 6,
   "metadata": {},
   "outputs": [
    {
     "name": "stdout",
     "output_type": "stream",
     "text": [
      "John\n",
      "Smith\n",
      "Hello John Smith! You just delved into python.\n"
     ]
    }
   ],
   "source": [
    "string1 = input()\n",
    "string2 = input()\n",
    "\n",
    "print(f'Hello {string1} {string2}! You just delved into python.')"
   ]
  },
  {
   "cell_type": "markdown",
   "metadata": {},
   "source": [
    "# #20\n",
    "__Read a given string, change the character at a given index and then print the modified string.__"
   ]
  },
  {
   "cell_type": "code",
   "execution_count": 17,
   "metadata": {},
   "outputs": [
    {
     "name": "stdout",
     "output_type": "stream",
     "text": [
      "abcdefghijkl\n",
      "2 z\n",
      "abzdefghijkl\n"
     ]
    }
   ],
   "source": [
    "# acquiring string to update\n",
    "s = input()\n",
    "\n",
    "# acquiring index value and character to update string with\n",
    "i, c = input().split()\n",
    "\n",
    "# updating string\n",
    "s = s[:int(i)] + c + s[int(i) + 1:]\n",
    "\n",
    "# printing string\n",
    "print(s)"
   ]
  },
  {
   "cell_type": "markdown",
   "metadata": {},
   "source": [
    "# #21 \n",
    "__You are given a string S. \n",
    "<br>Your task is to find out if the string  contains: alphanumeric characters, alphabetical characters, digits, lowercase and uppercase characters.\n",
    "<br>In the first line, print True if  has any alphanumeric characters. Otherwise, print False. \n",
    "<br>In the second line, print True if  has any alphabetical characters. Otherwise, print False. \n",
    "<br>In the third line, print True if  has any digits. Otherwise, print False. \n",
    "<br>In the fourth line, print True if  has any lowercase characters. Otherwise, print False. \n",
    "<br>In the fifth line, print True if  has any uppercase characters. Otherwise, print False.__"
   ]
  },
  {
   "cell_type": "code",
   "execution_count": 36,
   "metadata": {},
   "outputs": [
    {
     "name": "stdout",
     "output_type": "stream",
     "text": [
      "True\n",
      "True\n",
      "True\n",
      "True\n",
      "False\n"
     ]
    }
   ],
   "source": [
    "string = 'q2'\n",
    "\n",
    "print (any(char.isalnum()  for char in string))\n",
    "print (any(char.isalpha() for char in string))\n",
    "print (any(char.isdigit() for char in string))\n",
    "print (any(char.islower() for char in string))\n",
    "print (any(char.isupper() for char in string))"
   ]
  },
  {
   "cell_type": "markdown",
   "metadata": {},
   "source": [
    "# #22\n",
    "__You are asked to ensure that the first and last names of people begin with a capital letter in their passports.__ "
   ]
  },
  {
   "cell_type": "code",
   "execution_count": 54,
   "metadata": {},
   "outputs": [
    {
     "name": "stdout",
     "output_type": "stream",
     "text": [
      "john doe\n",
      "John Doe\n"
     ]
    }
   ],
   "source": [
    "s = input().split()\n",
    "firstname = (s[0])\n",
    "firstname = firstname.capitalize()\n",
    "lastname = (s[1])\n",
    "lastname = lastname.capitalize()\n",
    "s = firstname + \" \" + lastname\n",
    "print (s)"
   ]
  },
  {
   "cell_type": "markdown",
   "metadata": {},
   "source": [
    "# #23\n"
   ]
  }
 ],
 "metadata": {
  "kernelspec": {
   "display_name": "Python 3",
   "language": "python",
   "name": "python3"
  },
  "language_info": {
   "codemirror_mode": {
    "name": "ipython",
    "version": 3
   },
   "file_extension": ".py",
   "mimetype": "text/x-python",
   "name": "python",
   "nbconvert_exporter": "python",
   "pygments_lexer": "ipython3",
   "version": "3.7.6"
  }
 },
 "nbformat": 4,
 "nbformat_minor": 4
}

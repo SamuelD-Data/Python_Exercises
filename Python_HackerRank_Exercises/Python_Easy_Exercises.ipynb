{
 "cells": [
  {
   "cell_type": "markdown",
   "metadata": {},
   "source": [
    "# Python Easy Exercises\n",
    "***"
   ]
  },
  {
   "cell_type": "markdown",
   "metadata": {},
   "source": [
    "# #1\n",
    "__Given an integer, n, perform the following conditional actions:\n",
    "<br>\n",
    "If odd, print Weird\n",
    "<br>\n",
    "If even and in the inclusive range of 2 to 5, print Not Weird\n",
    "<br>\n",
    "If even and in the inclusive range of 6 to 20, print Weird\n",
    "<br>\n",
    "If even and greater than 20, print Not Weird\n",
    "<br>\n",
    "Integer will be no less than 1 and no greater than 100__"
   ]
  },
  {
   "cell_type": "code",
   "execution_count": 25,
   "metadata": {},
   "outputs": [
    {
     "name": "stdout",
     "output_type": "stream",
     "text": [
      "33\n",
      "Weird\n"
     ]
    }
   ],
   "source": [
    "n = int(input())\n",
    "\n",
    "if n % 2 == 1:\n",
    "    print (\"Weird\")\n",
    "elif n % 2 == 0 and n in range(2,6):\n",
    "    print ('Not Weird')\n",
    "elif n % 2 == 0 and n in range (6,21):\n",
    "    print ('Weird')\n",
    "elif n % 2 == 0 and n > 20:\n",
    "    print ('Not Weird')"
   ]
  },
  {
   "cell_type": "code",
   "execution_count": null,
   "metadata": {},
   "outputs": [],
   "source": []
  }
 ],
 "metadata": {
  "kernelspec": {
   "display_name": "Python 3",
   "language": "python",
   "name": "python3"
  },
  "language_info": {
   "codemirror_mode": {
    "name": "ipython",
    "version": 3
   },
   "file_extension": ".py",
   "mimetype": "text/x-python",
   "name": "python",
   "nbconvert_exporter": "python",
   "pygments_lexer": "ipython3",
   "version": "3.7.6"
  }
 },
 "nbformat": 4,
 "nbformat_minor": 4
}

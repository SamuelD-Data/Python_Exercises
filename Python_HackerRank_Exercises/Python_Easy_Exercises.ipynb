{
 "cells": [
  {
   "cell_type": "markdown",
   "metadata": {},
   "source": [
    "# Python Easy Exercises\n",
    "***"
   ]
  },
  {
   "cell_type": "markdown",
   "metadata": {},
   "source": [
    "# #1\n",
    "__Given an integer, n, perform the following conditional actions:\n",
    "<br>\n",
    "If odd, print Weird\n",
    "<br>\n",
    "If even and in the inclusive range of 2 to 5, print Not Weird\n",
    "<br>\n",
    "If even and in the inclusive range of 6 to 20, print Weird\n",
    "<br>\n",
    "If even and greater than 20, print Not Weird\n",
    "<br>\n",
    "Integer will be no less than 1 and no greater than 100__"
   ]
  },
  {
   "cell_type": "code",
   "execution_count": 25,
   "metadata": {},
   "outputs": [
    {
     "name": "stdout",
     "output_type": "stream",
     "text": [
      "33\n",
      "Weird\n"
     ]
    }
   ],
   "source": [
    "n = int(input())\n",
    "\n",
    "if n % 2 == 1:\n",
    "    print (\"Weird\")\n",
    "elif n % 2 == 0 and n in range(2,6):\n",
    "    print ('Not Weird')\n",
    "elif n % 2 == 0 and n in range (6,21):\n",
    "    print ('Weird')\n",
    "elif n % 2 == 0 and n > 20:\n",
    "    print ('Not Weird')"
   ]
  },
  {
   "cell_type": "markdown",
   "metadata": {},
   "source": [
    "# #2\n",
    "__Print \"Hello, World!\"__"
   ]
  },
  {
   "cell_type": "code",
   "execution_count": 2,
   "metadata": {},
   "outputs": [
    {
     "name": "stdout",
     "output_type": "stream",
     "text": [
      "Hello, World\n"
     ]
    }
   ],
   "source": [
    "print(\"Hello, World\")"
   ]
  },
  {
   "cell_type": "markdown",
   "metadata": {},
   "source": [
    "# #3\n",
    "__The provided code stub reads two integers from STDIN, a and b. \n",
    "<br>Add code to print three lines where:\n",
    "<br>The first line contains the sum of the two numbers.\n",
    "<br>The second line contains the difference of the two numbers (first - second).\n",
    "<br>The third line contains the product of the two numbers.\n",
    "<br>a and b are both between 1 and 10^10 (inclusive)__"
   ]
  },
  {
   "cell_type": "code",
   "execution_count": 3,
   "metadata": {},
   "outputs": [
    {
     "name": "stdout",
     "output_type": "stream",
     "text": [
      "22\n",
      "2\n",
      "24\n",
      "20\n",
      "44\n"
     ]
    }
   ],
   "source": [
    "a = int(input())\n",
    "b = int(input())\n",
    "\n",
    "print(a + b)\n",
    "print(a - b)\n",
    "print(a * b)"
   ]
  },
  {
   "cell_type": "markdown",
   "metadata": {},
   "source": [
    "# #4\n",
    "__The provided code stub reads two integers, a and b, from STDIN.\n",
    "<br>Add logic to print two lines. \n",
    "<br>The first line should contain the result of integer division,  // . \n",
    "<br>The second line should contain the result of float division,  / .\n",
    "<br>No rounding or formatting is necessary.__"
   ]
  },
  {
   "cell_type": "code",
   "execution_count": 5,
   "metadata": {},
   "outputs": [
    {
     "name": "stdout",
     "output_type": "stream",
     "text": [
      "2\n",
      "3\n",
      "0\n",
      "0.6666666666666666\n"
     ]
    }
   ],
   "source": [
    "a = int(input())\n",
    "b = int(input())\n",
    "\n",
    "print(a//b)\n",
    "print(a/b)"
   ]
  },
  {
   "cell_type": "markdown",
   "metadata": {},
   "source": [
    "# #5\n",
    "__The provided code stub reads and integer, n, from STDIN. For all non-negative integers i < n, print i^2.\n",
    "<br>n is between 1 and 20 (inclusive)__"
   ]
  },
  {
   "cell_type": "code",
   "execution_count": 14,
   "metadata": {},
   "outputs": [
    {
     "name": "stdout",
     "output_type": "stream",
     "text": [
      "6\n",
      "0\n",
      "1\n",
      "4\n",
      "9\n",
      "16\n",
      "25\n"
     ]
    }
   ],
   "source": [
    "# taking in input\n",
    "n = int(input())\n",
    "\n",
    "# printing squared value of each value in the range of input number (not inclusive of input number)\n",
    "for i in range(n):\n",
    "    print(i**2)"
   ]
  },
  {
   "cell_type": "markdown",
   "metadata": {},
   "source": [
    "# #6\n",
    "__You are given three integers x, y, and z representing the dimensions of a cuboid along with an integer n. \n",
    "<br>Print a list of all possible coordinates given by (i, j, k) on a 3D grid where the sum of i + j + k is not equal to n. \n",
    "<br>Please use list comprehensions rather than multiple loops, as a learning exercise.__"
   ]
  },
  {
   "cell_type": "code",
   "execution_count": 17,
   "metadata": {},
   "outputs": [
    {
     "name": "stdout",
     "output_type": "stream",
     "text": [
      "1\n",
      "2\n",
      "3\n",
      "4\n",
      "[[0, 0, 0], [0, 0, 1], [0, 0, 2], [0, 0, 3], [0, 1, 0], [0, 1, 1], [0, 1, 2], [0, 2, 0], [0, 2, 1], [0, 2, 3], [1, 0, 0], [1, 0, 1], [1, 0, 2], [1, 1, 0], [1, 1, 1], [1, 1, 3], [1, 2, 0], [1, 2, 2], [1, 2, 3]]\n"
     ]
    }
   ],
   "source": [
    "# taking input for each variable\n",
    "x = int(input())\n",
    "y = int(input())\n",
    "z = int(input())\n",
    "n = int(input())\n",
    " \n",
    "# creating arrays of numbers that when summed, do not equal n\n",
    "# values for each digit of each array can be any number between 0 and the input number (x, y, or z, inclusive)\n",
    "print([[i, j, k] for i in range(x + 1) for j in range(y + 1) for k in range(z + 1) if i + j + k != n ])"
   ]
  },
  {
   "cell_type": "markdown",
   "metadata": {},
   "source": [
    "# #7\n",
    "__You are given n scores. Store them in a list and find the score of the runner-up.\n",
    "<br>n is between 2 and 10 (inclusive)\n",
    "<br>Scores are between -100 and 100 (inclusive)__"
   ]
  },
  {
   "cell_type": "code",
   "execution_count": 116,
   "metadata": {},
   "outputs": [
    {
     "name": "stdout",
     "output_type": "stream",
     "text": [
      "4 4 5 4\n",
      "4\n"
     ]
    }
   ],
   "source": [
    "# taking in numbers, converting to int data type and splitting\n",
    "arr = map(int, input().split())\n",
    "\n",
    "# using set to eliminate duplicate values, converting to list afterwards\n",
    "arr = list(set(arr))\n",
    "\n",
    "# sorting values\n",
    "arr.sort()\n",
    "\n",
    "# printing second to last value in last, ie. the second to highest score\n",
    "print(arr[-2])"
   ]
  },
  {
   "cell_type": "markdown",
   "metadata": {},
   "source": [
    "# #8\n",
    "Given the names and grades for each student in a class of  students, store them in a nested list and print the name(s) of any student(s) having the second lowest grade.\n",
    "<br>Note: If there are multiple students with the second lowest grade, order their names alphabetically and print each name on a new line."
   ]
  },
  {
   "cell_type": "code",
   "execution_count": 125,
   "metadata": {},
   "outputs": [
    {
     "name": "stdout",
     "output_type": "stream",
     "text": [
      "4\n",
      "john\n",
      "20\n",
      "eric\n",
      "60\n",
      "tim\n",
      "40\n",
      "jessica\n",
      "80\n",
      "tim\n"
     ]
    }
   ],
   "source": [
    "# creating empty dict\n",
    "empty_dict = {}\n",
    "\n",
    "# taking inputs for number of students, student names, and scores\n",
    "# storing names and scores in empty dictionary\n",
    "for _ in range(int(input())):\n",
    "    name = input()\n",
    "    score = float(input())\n",
    "    empty_dict[name] = score\n",
    "\n",
    "# extracting values from dictionary\n",
    "dict_values = empty_dict.values()\n",
    "\n",
    "# creating and sorting list of unique grade values\n",
    "grades = list(set(dict_values))\n",
    "grades.sort()\n",
    "\n",
    "# sorting values and extracting second lowest grade\n",
    "second_lowest_grade = grades[1]\n",
    "\n",
    "# creating empty list\n",
    "second_lowest_students = []\n",
    "\n",
    "# iterating through dictionary \n",
    "for key, value in empty_dict.items():\n",
    "    # if value in dictionary matches second lowest grade, append name of student to list\n",
    "    if value == second_lowest_grade:\n",
    "        second_lowest_students.append(key)\n",
    "\n",
    "# sorting names\n",
    "second_lowest_students.sort()\n",
    "\n",
    "# printing student names\n",
    "for student in second_lowest_students:\n",
    "    print(student)"
   ]
  },
  {
   "cell_type": "code",
   "execution_count": null,
   "metadata": {},
   "outputs": [],
   "source": []
  }
 ],
 "metadata": {
  "kernelspec": {
   "display_name": "Python 3",
   "language": "python",
   "name": "python3"
  },
  "language_info": {
   "codemirror_mode": {
    "name": "ipython",
    "version": 3
   },
   "file_extension": ".py",
   "mimetype": "text/x-python",
   "name": "python",
   "nbconvert_exporter": "python",
   "pygments_lexer": "ipython3",
   "version": "3.7.6"
  }
 },
 "nbformat": 4,
 "nbformat_minor": 4
}

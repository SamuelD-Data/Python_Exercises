{
 "cells": [
  {
   "cell_type": "markdown",
   "metadata": {},
   "source": [
    "# Python Easy Exercises\n",
    "***"
   ]
  },
  {
   "cell_type": "markdown",
   "metadata": {},
   "source": [
    "# #1\n",
    "__Given an integer, n, perform the following conditional actions:\n",
    "<br>\n",
    "If odd, print Weird\n",
    "<br>\n",
    "If even and in the inclusive range of 2 to 5, print Not Weird\n",
    "<br>\n",
    "If even and in the inclusive range of 6 to 20, print Weird\n",
    "<br>\n",
    "If even and greater than 20, print Not Weird\n",
    "<br>\n",
    "Integer will be no less than 1 and no greater than 100__"
   ]
  },
  {
   "cell_type": "code",
   "execution_count": 25,
   "metadata": {},
   "outputs": [
    {
     "name": "stdout",
     "output_type": "stream",
     "text": [
      "33\n",
      "Weird\n"
     ]
    }
   ],
   "source": [
    "n = int(input())\n",
    "\n",
    "if n % 2 == 1:\n",
    "    print (\"Weird\")\n",
    "elif n % 2 == 0 and n in range(2,6):\n",
    "    print ('Not Weird')\n",
    "elif n % 2 == 0 and n in range (6,21):\n",
    "    print ('Weird')\n",
    "elif n % 2 == 0 and n > 20:\n",
    "    print ('Not Weird')"
   ]
  },
  {
   "cell_type": "markdown",
   "metadata": {},
   "source": [
    "# #2\n",
    "__Print \"Hello, World!\"__"
   ]
  },
  {
   "cell_type": "code",
   "execution_count": 2,
   "metadata": {},
   "outputs": [
    {
     "name": "stdout",
     "output_type": "stream",
     "text": [
      "Hello, World\n"
     ]
    }
   ],
   "source": [
    "print(\"Hello, World\")"
   ]
  },
  {
   "cell_type": "markdown",
   "metadata": {},
   "source": [
    "# #3\n",
    "__The provided code stub reads two integers from STDIN, a and b. \n",
    "<br>Add code to print three lines where:\n",
    "<br>The first line contains the sum of the two numbers.\n",
    "<br>The second line contains the difference of the two numbers (first - second).\n",
    "<br>The third line contains the product of the two numbers.\n",
    "<br>a and b are both between 1 and 10^10 (inclusive)__"
   ]
  },
  {
   "cell_type": "code",
   "execution_count": 3,
   "metadata": {},
   "outputs": [
    {
     "name": "stdout",
     "output_type": "stream",
     "text": [
      "22\n",
      "2\n",
      "24\n",
      "20\n",
      "44\n"
     ]
    }
   ],
   "source": [
    "a = int(input())\n",
    "b = int(input())\n",
    "\n",
    "print(a + b)\n",
    "print(a - b)\n",
    "print(a * b)"
   ]
  },
  {
   "cell_type": "markdown",
   "metadata": {},
   "source": [
    "# #4\n",
    "__The provided code stub reads two integers, a and b, from STDIN.\n",
    "<br>Add logic to print two lines. \n",
    "<br>The first line should contain the result of integer division,  // . \n",
    "<br>The second line should contain the result of float division,  / .\n",
    "<br>No rounding or formatting is necessary.__"
   ]
  },
  {
   "cell_type": "code",
   "execution_count": 5,
   "metadata": {},
   "outputs": [
    {
     "name": "stdout",
     "output_type": "stream",
     "text": [
      "2\n",
      "3\n",
      "0\n",
      "0.6666666666666666\n"
     ]
    }
   ],
   "source": [
    "a = int(input())\n",
    "b = int(input())\n",
    "\n",
    "print(a//b)\n",
    "print(a/b)"
   ]
  },
  {
   "cell_type": "markdown",
   "metadata": {},
   "source": [
    "# #5\n",
    "__The provided code stub reads and integer, n, from STDIN. For all non-negative integers i < n, print i^2.\n",
    "<br>n is between 1 and 20 (inclusive)__"
   ]
  },
  {
   "cell_type": "code",
   "execution_count": 10,
   "metadata": {},
   "outputs": [
    {
     "name": "stdout",
     "output_type": "stream",
     "text": [
      "6\n",
      "0\n",
      "1\n",
      "4\n",
      "9\n",
      "16\n",
      "25\n"
     ]
    }
   ],
   "source": [
    "n = int(input())\n",
    "\n",
    "for i in range(0, n):\n",
    "    print(i**2)"
   ]
  },
  {
   "cell_type": "code",
   "execution_count": null,
   "metadata": {},
   "outputs": [],
   "source": []
  }
 ],
 "metadata": {
  "kernelspec": {
   "display_name": "Python 3",
   "language": "python",
   "name": "python3"
  },
  "language_info": {
   "codemirror_mode": {
    "name": "ipython",
    "version": 3
   },
   "file_extension": ".py",
   "mimetype": "text/x-python",
   "name": "python",
   "nbconvert_exporter": "python",
   "pygments_lexer": "ipython3",
   "version": "3.7.6"
  }
 },
 "nbformat": 4,
 "nbformat_minor": 4
}
